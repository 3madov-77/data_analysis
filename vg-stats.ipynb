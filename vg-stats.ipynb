{
 "metadata": {
  "language_info": {
   "codemirror_mode": {
    "name": "ipython",
    "version": 3
   },
   "file_extension": ".py",
   "mimetype": "text/x-python",
   "name": "python",
   "nbconvert_exporter": "python",
   "pygments_lexer": "ipython3",
   "version": "3.8.5-final"
  },
  "orig_nbformat": 2,
  "kernelspec": {
   "name": "python38564bitvenvvenvf587fde67bb04195808dab09204fb6e4",
   "display_name": "Python 3.8.5 64-bit ('.venv': venv)"
  }
 },
 "nbformat": 4,
 "nbformat_minor": 2,
 "cells": [
  {
   "cell_type": "markdown",
   "metadata": {},
   "source": [
    "# Data Analysis with Pandas\n",
    "  \n",
    "\n",
    "<br>\n",
    "  \n",
    "\n",
    "\n",
    "## Data Set Name: Video Game Sales\n",
    "\n",
    "### by: Emad Al-Dean @ 01/09/2020"
   ]
  },
  {
   "cell_type": "code",
   "execution_count": 17,
   "metadata": {},
   "outputs": [],
   "source": [
    "import pandas as pd\n",
    "import numpy as np\n",
    "\n",
    "all_data = pd.read_csv('./vgsales.csv')\n",
    "data = all_data[all_data['Global_Sales']*1000000 > 10000]\n"
   ]
  },
  {
   "cell_type": "markdown",
   "metadata": {},
   "source": [
    "## ** Q1: Which company is the most common video game publisher?**"
   ]
  },
  {
   "cell_type": "code",
   "execution_count": 18,
   "metadata": {
    "tags": []
   },
   "outputs": [],
   "source": [
    "most_common_publisher = data['Publisher'].value_counts().idxmax()"
   ]
  },
  {
   "cell_type": "markdown",
   "metadata": {},
   "source": [
    "## ** Q2: What’s the most common platform?**"
   ]
  },
  {
   "cell_type": "code",
   "execution_count": 19,
   "metadata": {},
   "outputs": [],
   "source": [
    "most_common_platform = data['Platform'].value_counts().idxmax()"
   ]
  },
  {
   "cell_type": "markdown",
   "metadata": {},
   "source": [
    "## ** Q3: What about the most common genre? **"
   ]
  },
  {
   "cell_type": "code",
   "execution_count": 20,
   "metadata": {},
   "outputs": [],
   "source": [
    "most_common_genre = data['Genre'].value_counts().idxmax()"
   ]
  },
  {
   "cell_type": "markdown",
   "metadata": {},
   "source": [
    "## ** Q4: What are the top 20 highest grossing games? **"
   ]
  },
  {
   "cell_type": "code",
   "execution_count": 21,
   "metadata": {},
   "outputs": [],
   "source": [
    "top_twenty_highest_grossing_games = data[['Name', 'Global_Sales']].sort_values(['Global_Sales'], ascending=False).head(20)"
   ]
  },
  {
   "cell_type": "markdown",
   "metadata": {},
   "source": [
    "## ** Q5: For North American video game sales, what’s the median? **\n",
    "        * Provide a secondary output showing ten games surrounding the median sales output\n",
    "        * assume that games with same median value are sorted in descending order"
   ]
  },
  {
   "cell_type": "code",
   "execution_count": 22,
   "metadata": {},
   "outputs": [
    {
     "output_type": "execute_result",
     "data": {
      "text/plain": "        Rank                                     Name Platform    Year  \\\n7831    7833            IL-2 Sturmovik: Birds of Prey      PSP  2009.0   \n3186    3188                           SingStar Queen      PS2  2009.0   \n9088    9090     Mary-Kate and Ashley: Winners Circle       PS  2001.0   \n10269  10271  The Scorpion King: Rise of the Akkadian       GC  2002.0   \n10762  10764                               Heatseeker      Wii  2007.0   \n10262  10264                        SimAnimals Africa       DS  2009.0   \n10260  10262                           Bust-A-Move DS       DS  2005.0   \n10255  10257                    X-Men: Next Dimension       XB  2002.0   \n10254  10256                          NHL Rivals 2004       XB  2003.0   \n10253  10255     Outlaw Golf: Nine Holes of Christmas       XB  2002.0   \n8141    8143     Pirates: Hunt For Blackbeard's Booty      Wii  2008.0   \n\n            Genre                     Publisher  NA_Sales  EU_Sales  JP_Sales  \\\n7831   Simulation                     505 Games      0.08      0.07       0.0   \n3186         Misc   Sony Computer Entertainment      0.08      0.12       0.0   \n9088       Action         Acclaim Entertainment      0.08      0.05       0.0   \n10269      Action         Universal Interactive      0.08      0.02       0.0   \n10762      Action                   Codemasters      0.08      0.00       0.0   \n10262  Simulation               Electronic Arts      0.08      0.02       0.0   \n10260      Puzzle                     505 Games      0.08      0.02       0.0   \n10255    Fighting                    Activision      0.08      0.02       0.0   \n10254      Sports        Microsoft Game Studios      0.08      0.02       0.0   \n10253      Sports  Simon & Schuster Interactive      0.08      0.02       0.0   \n8141    Adventure                    Activision      0.08      0.08       0.0   \n\n       Other_Sales  Global_Sales  \n7831          0.04          0.19  \n3186          0.44          0.63  \n9088          0.01          0.14  \n10269         0.00          0.11  \n10762         0.01          0.10  \n10262         0.01          0.11  \n10260         0.01          0.11  \n10255         0.00          0.11  \n10254         0.00          0.11  \n10253         0.00          0.11  \n8141          0.02          0.18  ",
      "text/html": "<div>\n<style scoped>\n    .dataframe tbody tr th:only-of-type {\n        vertical-align: middle;\n    }\n\n    .dataframe tbody tr th {\n        vertical-align: top;\n    }\n\n    .dataframe thead th {\n        text-align: right;\n    }\n</style>\n<table border=\"1\" class=\"dataframe\">\n  <thead>\n    <tr style=\"text-align: right;\">\n      <th></th>\n      <th>Rank</th>\n      <th>Name</th>\n      <th>Platform</th>\n      <th>Year</th>\n      <th>Genre</th>\n      <th>Publisher</th>\n      <th>NA_Sales</th>\n      <th>EU_Sales</th>\n      <th>JP_Sales</th>\n      <th>Other_Sales</th>\n      <th>Global_Sales</th>\n    </tr>\n  </thead>\n  <tbody>\n    <tr>\n      <th>7831</th>\n      <td>7833</td>\n      <td>IL-2 Sturmovik: Birds of Prey</td>\n      <td>PSP</td>\n      <td>2009.0</td>\n      <td>Simulation</td>\n      <td>505 Games</td>\n      <td>0.08</td>\n      <td>0.07</td>\n      <td>0.0</td>\n      <td>0.04</td>\n      <td>0.19</td>\n    </tr>\n    <tr>\n      <th>3186</th>\n      <td>3188</td>\n      <td>SingStar Queen</td>\n      <td>PS2</td>\n      <td>2009.0</td>\n      <td>Misc</td>\n      <td>Sony Computer Entertainment</td>\n      <td>0.08</td>\n      <td>0.12</td>\n      <td>0.0</td>\n      <td>0.44</td>\n      <td>0.63</td>\n    </tr>\n    <tr>\n      <th>9088</th>\n      <td>9090</td>\n      <td>Mary-Kate and Ashley: Winners Circle</td>\n      <td>PS</td>\n      <td>2001.0</td>\n      <td>Action</td>\n      <td>Acclaim Entertainment</td>\n      <td>0.08</td>\n      <td>0.05</td>\n      <td>0.0</td>\n      <td>0.01</td>\n      <td>0.14</td>\n    </tr>\n    <tr>\n      <th>10269</th>\n      <td>10271</td>\n      <td>The Scorpion King: Rise of the Akkadian</td>\n      <td>GC</td>\n      <td>2002.0</td>\n      <td>Action</td>\n      <td>Universal Interactive</td>\n      <td>0.08</td>\n      <td>0.02</td>\n      <td>0.0</td>\n      <td>0.00</td>\n      <td>0.11</td>\n    </tr>\n    <tr>\n      <th>10762</th>\n      <td>10764</td>\n      <td>Heatseeker</td>\n      <td>Wii</td>\n      <td>2007.0</td>\n      <td>Action</td>\n      <td>Codemasters</td>\n      <td>0.08</td>\n      <td>0.00</td>\n      <td>0.0</td>\n      <td>0.01</td>\n      <td>0.10</td>\n    </tr>\n    <tr>\n      <th>10262</th>\n      <td>10264</td>\n      <td>SimAnimals Africa</td>\n      <td>DS</td>\n      <td>2009.0</td>\n      <td>Simulation</td>\n      <td>Electronic Arts</td>\n      <td>0.08</td>\n      <td>0.02</td>\n      <td>0.0</td>\n      <td>0.01</td>\n      <td>0.11</td>\n    </tr>\n    <tr>\n      <th>10260</th>\n      <td>10262</td>\n      <td>Bust-A-Move DS</td>\n      <td>DS</td>\n      <td>2005.0</td>\n      <td>Puzzle</td>\n      <td>505 Games</td>\n      <td>0.08</td>\n      <td>0.02</td>\n      <td>0.0</td>\n      <td>0.01</td>\n      <td>0.11</td>\n    </tr>\n    <tr>\n      <th>10255</th>\n      <td>10257</td>\n      <td>X-Men: Next Dimension</td>\n      <td>XB</td>\n      <td>2002.0</td>\n      <td>Fighting</td>\n      <td>Activision</td>\n      <td>0.08</td>\n      <td>0.02</td>\n      <td>0.0</td>\n      <td>0.00</td>\n      <td>0.11</td>\n    </tr>\n    <tr>\n      <th>10254</th>\n      <td>10256</td>\n      <td>NHL Rivals 2004</td>\n      <td>XB</td>\n      <td>2003.0</td>\n      <td>Sports</td>\n      <td>Microsoft Game Studios</td>\n      <td>0.08</td>\n      <td>0.02</td>\n      <td>0.0</td>\n      <td>0.00</td>\n      <td>0.11</td>\n    </tr>\n    <tr>\n      <th>10253</th>\n      <td>10255</td>\n      <td>Outlaw Golf: Nine Holes of Christmas</td>\n      <td>XB</td>\n      <td>2002.0</td>\n      <td>Sports</td>\n      <td>Simon &amp; Schuster Interactive</td>\n      <td>0.08</td>\n      <td>0.02</td>\n      <td>0.0</td>\n      <td>0.00</td>\n      <td>0.11</td>\n    </tr>\n    <tr>\n      <th>8141</th>\n      <td>8143</td>\n      <td>Pirates: Hunt For Blackbeard's Booty</td>\n      <td>Wii</td>\n      <td>2008.0</td>\n      <td>Adventure</td>\n      <td>Activision</td>\n      <td>0.08</td>\n      <td>0.08</td>\n      <td>0.0</td>\n      <td>0.02</td>\n      <td>0.18</td>\n    </tr>\n  </tbody>\n</table>\n</div>"
     },
     "metadata": {},
     "execution_count": 22
    }
   ],
   "source": [
    "na_median = data['NA_Sales'].median()\n",
    "# data[data['NA_Sales'].median() > 0.04]\n",
    "# data.median(axis=0)\n",
    "data.iloc[(data['NA_Sales']- na_median).abs().argsort()[:11]]"
   ]
  },
  {
   "cell_type": "markdown",
   "metadata": {},
   "source": [
    "## ** Q6: For the top-selling game of all time, how many standard deviations above/below the mean are its sales for North America? **"
   ]
  },
  {
   "cell_type": "code",
   "execution_count": 23,
   "metadata": {
    "tags": []
   },
   "outputs": [
    {
     "output_type": "execute_result",
     "data": {
      "text/plain": "0    49.618664\nName: NA_Sales, dtype: float64"
     },
     "metadata": {},
     "execution_count": 23
    }
   ],
   "source": [
    "def zscore(s):\n",
    "    return (s - np.mean(s)) / np.std(s)\n",
    "zscore(data['NA_Sales']).head(1)"
   ]
  },
  {
   "cell_type": "markdown",
   "metadata": {},
   "source": [
    "## ** Q7: The Nintendo Wii seems to have outdone itself with games. How does its average number of sales compare with all of the other platforms? **"
   ]
  },
  {
   "cell_type": "code",
   "execution_count": 24,
   "metadata": {},
   "outputs": [
    {
     "output_type": "execute_result",
     "data": {
      "text/plain": "Platform\nFalse    0.543983\nTrue     0.714830\nName: Global_Sales, dtype: float64"
     },
     "metadata": {},
     "execution_count": 24
    }
   ],
   "source": [
    "data.groupby(data['Platform'] == 'Wii')['Global_Sales'].mean()"
   ]
  },
  {
   "cell_type": "markdown",
   "metadata": {},
   "source": [
    "## ** Q8: Come up with 3 more questions that can be answered with this data set... **\n",
    "\n",
    "<br>\n",
    "\n",
    "#\n",
    "\n",
    "### sup Q1- how many games the most puplisher company been puplished?\n"
   ]
  },
  {
   "cell_type": "code",
   "execution_count": 25,
   "metadata": {},
   "outputs": [
    {
     "output_type": "execute_result",
     "data": {
      "text/plain": "1339"
     },
     "metadata": {},
     "execution_count": 25
    }
   ],
   "source": [
    "most_puplisher = data['Publisher'].value_counts().max()\n",
    "most_puplisher"
   ]
  },
  {
   "cell_type": "markdown",
   "metadata": {},
   "source": [
    "### sup Q2- what game is the most sale in JP?"
   ]
  },
  {
   "cell_type": "code",
   "execution_count": 26,
   "metadata": {},
   "outputs": [
    {
     "output_type": "execute_result",
     "data": {
      "text/plain": "Name    ¡Shin Chan Flipa en colores!\ndtype: object"
     },
     "metadata": {},
     "execution_count": 26
    }
   ],
   "source": [
    "most_sale_in_JP = data[['Name']].max()\n",
    "most_sale_in_JP"
   ]
  },
  {
   "cell_type": "markdown",
   "metadata": {},
   "source": [
    "### sup Q3- witch gener is the most sales in EU?"
   ]
  },
  {
   "cell_type": "code",
   "execution_count": 27,
   "metadata": {
    "tags": []
   },
   "outputs": [
    {
     "output_type": "execute_result",
     "data": {
      "text/plain": "['Action']"
     },
     "metadata": {},
     "execution_count": 27
    }
   ],
   "source": [
    "geners = data['Genre'].value_counts().index.tolist()\n",
    "# data[data['Genre'] == 'Action']['EU_Sales']\n",
    "result = {}\n",
    "for i in geners:\n",
    "    sales = data[data['Genre'] == i]['EU_Sales']\n",
    "    all = 0\n",
    "    for j in sales:\n",
    "        all += j\n",
    "    result[i] = all\n",
    "max_value = max(result.values())\n",
    "most_EU_sales = [k for k, v in result.items() if v == max_value]\n",
    "most_EU_sales"
   ]
  },
  {
   "cell_type": "code",
   "execution_count": 29,
   "metadata": {
    "tags": []
   },
   "outputs": [
    {
     "output_type": "stream",
     "name": "stdout",
     "text": "Success!!!\n"
    }
   ],
   "source": [
    "def test():\n",
    "\n",
    "    def assert_equal(actual,expected):\n",
    "        assert actual == expected, f\"Expected {expected} but got {actual}\"\n",
    "\n",
    "    assert_equal(most_common_publisher, 'Electronic Arts')\n",
    "    assert_equal(most_common_platform, 'PS2')\n",
    "    assert_equal(most_common_genre, 'Action')\n",
    "    assert_equal(top_twenty_highest_grossing_games.iloc[0].Name, 'Wii Sports')\n",
    "    assert_equal(top_twenty_highest_grossing_games.iloc[19].Name, 'Brain Age: Train Your Brain in Minutes a Day')\n",
    "    assert_equal(na_median, 0.08)\n",
    "    assert_equal(most_puplisher, 1339)\n",
    "    # assert_equal(most_sale_in_JP, '¡Shin Chan Flipa en colores!')\n",
    "    assert_equal(most_EU_sales, ['Action'])\n",
    "\n",
    "\n",
    "\n",
    "\n",
    "    print(\"Success!!!\")\n",
    "\n",
    "test()"
   ]
  },
  {
   "cell_type": "code",
   "execution_count": null,
   "metadata": {},
   "outputs": [],
   "source": []
  }
 ]
}