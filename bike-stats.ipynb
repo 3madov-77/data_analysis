{
 "metadata": {
  "language_info": {
   "codemirror_mode": {
    "name": "ipython",
    "version": 3
   },
   "file_extension": ".py",
   "mimetype": "text/x-python",
   "name": "python",
   "nbconvert_exporter": "python",
   "pygments_lexer": "ipython3",
   "version": "3.8.5-final"
  },
  "orig_nbformat": 2,
  "kernelspec": {
   "name": "python38564bitvenvvenvf587fde67bb04195808dab09204fb6e4",
   "display_name": "Python 3.8.5 64-bit ('.venv': venv)"
  }
 },
 "nbformat": 4,
 "nbformat_minor": 2,
 "cells": [
  {
   "cell_type": "markdown",
   "metadata": {},
   "source": [
    "# Data Analysis with Pandas\n",
    "  \n",
    "\n",
    "<br>\n",
    "  \n",
    "\n",
    "\n",
    "## Data Set Name: Cycle Share Data set\n",
    "\n",
    "### by: Emad Al-Dean @ 01/09/2020"
   ]
  },
  {
   "cell_type": "code",
   "execution_count": 39,
   "metadata": {
    "tags": []
   },
   "outputs": [
    {
     "output_type": "stream",
     "name": "stderr",
     "text": "b'Skipping line 50794: expected 12 fields, saw 20\\n'\n"
    }
   ],
   "source": [
    "import pandas as pd\n",
    "import numpy as np\n",
    "from datetime import datetime as dt\n",
    "\n",
    "\n",
    "trip_df = pd.read_csv('./bike_stats/tripo.csv', error_bad_lines=False)\n",
    "\n",
    "weather_df = pd.read_csv('./bike_stats/weather.csv')\n",
    "\n",
    "station_df = pd.read_csv('./bike_stats/station.csv')"
   ]
  },
  {
   "cell_type": "markdown",
   "metadata": {},
   "source": [
    "## ** Q1: What is the average trip duration for a borrowed bicycle? **"
   ]
  },
  {
   "cell_type": "code",
   "execution_count": 6,
   "metadata": {},
   "outputs": [
    {
     "output_type": "execute_result",
     "data": {
      "text/plain": "19.0"
     },
     "metadata": {},
     "execution_count": 6
    }
   ],
   "source": [
    "# not_members = df[df['usertype'] != 'Member']\n",
    "trip_df['tripduration'].mean() // 60"
   ]
  },
  {
   "cell_type": "markdown",
   "metadata": {},
   "source": [
    "## ** Q2: What’s the most common age of a bicycle-sharer? **"
   ]
  },
  {
   "cell_type": "code",
   "execution_count": 8,
   "metadata": {},
   "outputs": [
    {
     "output_type": "execute_result",
     "data": {
      "text/plain": "33"
     },
     "metadata": {},
     "execution_count": 8
    }
   ],
   "source": [
    "2020 - int(trip_df['birthyear'].value_counts().idxmax())"
   ]
  },
  {
   "cell_type": "markdown",
   "metadata": {},
   "source": [
    "## ** Q3: Given all the weather data here, find the average precipitation per month, and the median precipitation. **"
   ]
  },
  {
   "cell_type": "code",
   "execution_count": 38,
   "metadata": {
    "tags": []
   },
   "outputs": [
    {
     "output_type": "stream",
     "name": "stdout",
     "text": "Month  Precipitation_In\nMonth                         \n1          1          0.143548\n2          2          0.168421\n3          3          0.156935\n4          4          0.051333\n5          5          0.012419\n6          6          0.030500\n7          7          0.012097\n8          8          0.018226\n9          9          0.041000\n10        10          0.120645\n11        11          0.234000\n12        12          0.327419\n       Month  Precipitation_In\nMonth                         \n1          1             0.020\n2          2             0.040\n3          3             0.025\n4          4             0.000\n5          5             0.000\n6          6             0.000\n7          7             0.000\n8          8             0.000\n9          9             0.000\n10        10             0.010\n11        11             0.065\n12        12             0.120\n"
    }
   ],
   "source": [
    "weather_df['Date'] = pd.to_datetime(weather_df['Date'])\n",
    "weather_df['Month'] = weather_df['Date'].dt.month\n",
    "avg = (weather_df[['Month','Precipitation_In']]).groupby(weather_df.Month).mean()\n",
    "print(avg)\n",
    "\n",
    "medi = (weather_df[['Month','Precipitation_In']]).groupby(weather_df.Month).median()\n",
    "print(medi)\n"
   ]
  },
  {
   "cell_type": "markdown",
   "metadata": {},
   "source": [
    "## ** Q4: What’s the average number of bikes at a given bike station? **"
   ]
  },
  {
   "cell_type": "code",
   "execution_count": 66,
   "metadata": {},
   "outputs": [
    {
     "output_type": "execute_result",
     "data": {
      "text/plain": "16.517241379310345"
     },
     "metadata": {},
     "execution_count": 66
    }
   ],
   "source": [
    "station_df.current_dockcount.mean()\n"
   ]
  },
  {
   "cell_type": "markdown",
   "metadata": {},
   "source": [
    "## ** Q5: When a bike station is modified, is it more likely that it’ll lose bikes or gain bikes? How do you know? **"
   ]
  },
  {
   "cell_type": "code",
   "execution_count": 80,
   "metadata": {},
   "outputs": [
    {
     "output_type": "execute_result",
     "data": {
      "text/plain": "   station_id                                               name        lat  \\\n0       BT-01                                 3rd Ave & Broad St  47.618418   \n1       BT-03                                  2nd Ave & Vine St  47.615829   \n2       BT-04                             6th Ave & Blanchard St  47.616094   \n3       BT-05                             2nd Ave & Blanchard St  47.613110   \n4      CBD-03                                 7th Ave & Union St  47.610731   \n5      CBD-04                                 Union St & 4th Ave  47.609221   \n6      CBD-05                                1st Ave & Marion St  47.604058   \n7      CBD-06                                2nd Ave & Spring St  47.605950   \n8      CBD-07                     City Hall / 4th Ave & James St  47.603509   \n9      CBD-13                                  2nd Ave & Pine St  47.610185   \n10      CD-01                            12th Ave & E Yesler Way  47.602103   \n11      CH-01                           Summit Ave & E Denny Way  47.618633   \n12      CH-02                     E Harrison St & Broadway Ave E  47.622063   \n13      CH-03                     Summit Ave E & E Republican St  47.623367   \n14      CH-05                           15th Ave E & E Thomas St  47.620712   \n15      CH-06                             12th Ave & E Denny Way  47.618549   \n16      CH-07                               E Pine St & 16th Ave  47.615330   \n17      CH-08             Cal Anderson Park / 11th Ave & Pine St  47.615486   \n18      CH-09                            Harvard Ave & E Pine St  47.615517   \n19      CH-12                           Bellevue Ave & E Pine St  47.615456   \n20      CH-15                             12th Ave & E Mercer St  47.624142   \n21     DPD-01                              9th Ave N & Mercer St  47.624298   \n22     DPD-03  Children's Hospital / Sandpoint Way NE & 40th ...  47.663509   \n23      EL-01  Fred Hutchinson Cancer Research Center / Fairv...  47.627643   \n24      EL-03                       E Blaine St & Fairview Ave E  47.634831   \n25      EL-05                      Eastlake Ave E & E Allison St  47.649090   \n26      FH-01          Frye Art Museum / Terry Ave & Columbia St  47.607281   \n27      FH-04      Seattle University / E Columbia St & 12th Ave  47.609239   \n28      ID-04                              6th Ave S & S King St  47.598488   \n29      PS-04  Occidental Park / Occidental Ave S & S Washing...  47.600757   \n30      PS-05  King Street Station Plaza / 2nd Ave Extension ...  47.598994   \n31     SLU-01                         REI / Yale Ave N & John St  47.619859   \n32     SLU-02                            Dexter Ave N & Aloha St  47.627735   \n33     SLU-04                     Republican St & Westlake Ave N  47.623165   \n34     SLU-07                      PATH / 9th Ave & Westlake Ave  47.618320   \n35     SLU-15                             Westlake Ave & 6th Ave  47.613628   \n36     SLU-16                                  Pine St & 9th Ave  47.613715   \n37     SLU-17          Lake Union Park / Valley St & Boren Ave N  47.626041   \n38     SLU-18                             Dexter Ave & Denny Way  47.618285   \n39     SLU-19                Key Arena / 1st Ave N & Harrison St  47.622277   \n40     SLU-20                             Terry Ave & Stewart St  47.616260   \n41     SLU-21                              Mercer St & 9th Ave N  47.624769   \n42      UD-01  Burke-Gilman Trail / NE Blakeley St & 24th Ave NE  47.666145   \n43      UD-02                     NE 42nd St & University Way NE  47.658288   \n44      UD-04                          12th Ave & NE Campus Pkwy  47.656395   \n45      UD-07                           NE 47th St & 12th Ave NE  47.663143   \n46      UW-01                       UW McCarty Hall / Whitman Ct  47.660268   \n47      UW-02  Burke Museum / E Stevens Way NE & Memorial Way NE  47.659756   \n48      UW-04                           15th Ave NE & NE 40th St  47.655590   \n49      UW-06  UW Engineering Library / E Stevens Way NE & Je...  47.654613   \n50      UW-07                  UW Intramural Activities Building  47.653713   \n51      UW-10  UW Magnuson Health Sciences Center Rotunda / C...  47.650725   \n52      WF-01                    Pier 69 / Alaskan Way & Clay St  47.614315   \n53      WF-04  Seattle Aquarium / Alaskan Way S & Elliott Bay...  47.607702   \n54      CH-16                           Broadway and E Denny Way  47.618640   \n55     SLU-22                              Thomas St & 5th Ave N  47.620879   \n56      UW-11                    NE Pacific St/UW Medical Center  47.649952   \n57      WF-03                    Pier 66 / Alaskan Way & Bell St  47.611370   \n\n          long install_date  install_dockcount modification_date  \\\n0  -122.350964   10/13/2014                 18               NaN   \n1  -122.348564   10/13/2014                 16               NaN   \n2  -122.341102   10/13/2014                 16               NaN   \n3  -122.344208   10/13/2014                 14               NaN   \n4  -122.332447   10/13/2014                 20               NaN   \n5  -122.335596    7/27/2015                 18               NaN   \n6  -122.335800   10/13/2014                 20               NaN   \n7  -122.335768   10/13/2014                 20         11/9/2015   \n8  -122.330409   10/13/2014                 20               NaN   \n9  -122.339641   10/13/2014                 18               NaN   \n10 -122.316923    5/22/2015                 16          8/9/2016   \n11 -122.325249   10/13/2014                 16               NaN   \n12 -122.321251   10/13/2014                 18         2/24/2015   \n13 -122.325279   10/13/2014                 16               NaN   \n14 -122.312805   10/13/2014                 16               NaN   \n15 -122.317017   10/13/2014                 16               NaN   \n16 -122.311752   10/13/2014                 18               NaN   \n17 -122.318245   10/13/2014                 28         2/24/2015   \n18 -122.322083   10/13/2014                 16               NaN   \n19 -122.326729   10/13/2014                 18               NaN   \n20 -122.316811   10/13/2014                 16               NaN   \n21 -122.339617   10/13/2014                 18               NaN   \n22 -122.284119   10/13/2014                 30         3/24/2015   \n23 -122.332576   10/13/2014                 12         3/27/2015   \n24 -122.326634   10/13/2014                 18               NaN   \n25 -122.322983   10/13/2014                 18               NaN   \n26 -122.324783   10/13/2014                 16         3/18/2016   \n27 -122.316651   10/13/2014                 20               NaN   \n28 -122.326412   10/13/2014                 16               NaN   \n29 -122.332946   10/13/2014                 18               NaN   \n30 -122.329684   10/13/2014                 18               NaN   \n31 -122.330304   10/13/2014                 18         2/24/2015   \n32 -122.342232   10/13/2014                 18               NaN   \n33 -122.338203   10/13/2014                 18               NaN   \n34 -122.338913   10/13/2014                 18               NaN   \n35 -122.337341   10/13/2014                 12         3/13/2015   \n36 -122.331777   10/13/2014                 20               NaN   \n37 -122.335831   10/13/2014                 18         2/23/2015   \n38 -122.342205   10/13/2014                 20         11/2/2015   \n39 -122.355230   10/13/2014                 12          3/4/2015   \n40 -122.333815    6/12/2015                 20               NaN   \n41 -122.339408    9/15/2015                 20               NaN   \n42 -122.301491   10/13/2014                 18               NaN   \n43 -122.313334   10/13/2014                 18               NaN   \n44 -122.315620   10/13/2014                 16               NaN   \n45 -122.315086   10/13/2014                 16               NaN   \n46 -122.304826   10/13/2014                 16        10/29/2015   \n47 -122.310402   10/13/2014                 12         2/20/2015   \n48 -122.311890   10/13/2014                 18         2/20/2015   \n49 -122.304863   10/13/2014                 12         2/20/2015   \n50 -122.302162   10/13/2014                 20         2/20/2015   \n51 -122.311188   10/13/2014                 16               NaN   \n52 -122.354093   10/13/2014                 18               NaN   \n53 -122.341650   10/13/2014                 18               NaN   \n54 -122.320777    3/18/2016                 18               NaN   \n55 -122.347377     7/3/2016                 18               NaN   \n56 -122.306263   10/29/2015                 16               NaN   \n57 -122.348701     8/9/2016                 18               NaN   \n\n    current_dockcount decommission_date  \n0                  18               NaN  \n1                  16               NaN  \n2                  16               NaN  \n3                  14               NaN  \n4                  20               NaN  \n5                  18               NaN  \n6                  20               NaN  \n7                  18               NaN  \n8                  20               NaN  \n9                  18               NaN  \n10                  0          8/9/2016  \n11                 16               NaN  \n12                 20               NaN  \n13                 16               NaN  \n14                 16               NaN  \n15                 16               NaN  \n16                 18               NaN  \n17                 26               NaN  \n18                 16               NaN  \n19                 14               NaN  \n20                 16               NaN  \n21                 18               NaN  \n22                 24               NaN  \n23                 16               NaN  \n24                 18               NaN  \n25                 18               NaN  \n26                  0         3/18/2016  \n27                 20               NaN  \n28                 16               NaN  \n29                 18               NaN  \n30                 18               NaN  \n31                 20               NaN  \n32                 18               NaN  \n33                 18               NaN  \n34                 18               NaN  \n35                 20               NaN  \n36                 20               NaN  \n37                 16               NaN  \n38                  0          7/2/2016  \n39                 16               NaN  \n40                 20               NaN  \n41                 20               NaN  \n42                 18               NaN  \n43                 18               NaN  \n44                 16               NaN  \n45                 16               NaN  \n46                  0        10/29/2015  \n47                 14               NaN  \n48                 16               NaN  \n49                 14               NaN  \n50                 14               NaN  \n51                 16               NaN  \n52                 24               NaN  \n53                 18               NaN  \n54                 18               NaN  \n55                 18               NaN  \n56                 16               NaN  \n57                 18               NaN  ",
      "text/html": "<div>\n<style scoped>\n    .dataframe tbody tr th:only-of-type {\n        vertical-align: middle;\n    }\n\n    .dataframe tbody tr th {\n        vertical-align: top;\n    }\n\n    .dataframe thead th {\n        text-align: right;\n    }\n</style>\n<table border=\"1\" class=\"dataframe\">\n  <thead>\n    <tr style=\"text-align: right;\">\n      <th></th>\n      <th>station_id</th>\n      <th>name</th>\n      <th>lat</th>\n      <th>long</th>\n      <th>install_date</th>\n      <th>install_dockcount</th>\n      <th>modification_date</th>\n      <th>current_dockcount</th>\n      <th>decommission_date</th>\n    </tr>\n  </thead>\n  <tbody>\n    <tr>\n      <th>0</th>\n      <td>BT-01</td>\n      <td>3rd Ave &amp; Broad St</td>\n      <td>47.618418</td>\n      <td>-122.350964</td>\n      <td>10/13/2014</td>\n      <td>18</td>\n      <td>NaN</td>\n      <td>18</td>\n      <td>NaN</td>\n    </tr>\n    <tr>\n      <th>1</th>\n      <td>BT-03</td>\n      <td>2nd Ave &amp; Vine St</td>\n      <td>47.615829</td>\n      <td>-122.348564</td>\n      <td>10/13/2014</td>\n      <td>16</td>\n      <td>NaN</td>\n      <td>16</td>\n      <td>NaN</td>\n    </tr>\n    <tr>\n      <th>2</th>\n      <td>BT-04</td>\n      <td>6th Ave &amp; Blanchard St</td>\n      <td>47.616094</td>\n      <td>-122.341102</td>\n      <td>10/13/2014</td>\n      <td>16</td>\n      <td>NaN</td>\n      <td>16</td>\n      <td>NaN</td>\n    </tr>\n    <tr>\n      <th>3</th>\n      <td>BT-05</td>\n      <td>2nd Ave &amp; Blanchard St</td>\n      <td>47.613110</td>\n      <td>-122.344208</td>\n      <td>10/13/2014</td>\n      <td>14</td>\n      <td>NaN</td>\n      <td>14</td>\n      <td>NaN</td>\n    </tr>\n    <tr>\n      <th>4</th>\n      <td>CBD-03</td>\n      <td>7th Ave &amp; Union St</td>\n      <td>47.610731</td>\n      <td>-122.332447</td>\n      <td>10/13/2014</td>\n      <td>20</td>\n      <td>NaN</td>\n      <td>20</td>\n      <td>NaN</td>\n    </tr>\n    <tr>\n      <th>5</th>\n      <td>CBD-04</td>\n      <td>Union St &amp; 4th Ave</td>\n      <td>47.609221</td>\n      <td>-122.335596</td>\n      <td>7/27/2015</td>\n      <td>18</td>\n      <td>NaN</td>\n      <td>18</td>\n      <td>NaN</td>\n    </tr>\n    <tr>\n      <th>6</th>\n      <td>CBD-05</td>\n      <td>1st Ave &amp; Marion St</td>\n      <td>47.604058</td>\n      <td>-122.335800</td>\n      <td>10/13/2014</td>\n      <td>20</td>\n      <td>NaN</td>\n      <td>20</td>\n      <td>NaN</td>\n    </tr>\n    <tr>\n      <th>7</th>\n      <td>CBD-06</td>\n      <td>2nd Ave &amp; Spring St</td>\n      <td>47.605950</td>\n      <td>-122.335768</td>\n      <td>10/13/2014</td>\n      <td>20</td>\n      <td>11/9/2015</td>\n      <td>18</td>\n      <td>NaN</td>\n    </tr>\n    <tr>\n      <th>8</th>\n      <td>CBD-07</td>\n      <td>City Hall / 4th Ave &amp; James St</td>\n      <td>47.603509</td>\n      <td>-122.330409</td>\n      <td>10/13/2014</td>\n      <td>20</td>\n      <td>NaN</td>\n      <td>20</td>\n      <td>NaN</td>\n    </tr>\n    <tr>\n      <th>9</th>\n      <td>CBD-13</td>\n      <td>2nd Ave &amp; Pine St</td>\n      <td>47.610185</td>\n      <td>-122.339641</td>\n      <td>10/13/2014</td>\n      <td>18</td>\n      <td>NaN</td>\n      <td>18</td>\n      <td>NaN</td>\n    </tr>\n    <tr>\n      <th>10</th>\n      <td>CD-01</td>\n      <td>12th Ave &amp; E Yesler Way</td>\n      <td>47.602103</td>\n      <td>-122.316923</td>\n      <td>5/22/2015</td>\n      <td>16</td>\n      <td>8/9/2016</td>\n      <td>0</td>\n      <td>8/9/2016</td>\n    </tr>\n    <tr>\n      <th>11</th>\n      <td>CH-01</td>\n      <td>Summit Ave &amp; E Denny Way</td>\n      <td>47.618633</td>\n      <td>-122.325249</td>\n      <td>10/13/2014</td>\n      <td>16</td>\n      <td>NaN</td>\n      <td>16</td>\n      <td>NaN</td>\n    </tr>\n    <tr>\n      <th>12</th>\n      <td>CH-02</td>\n      <td>E Harrison St &amp; Broadway Ave E</td>\n      <td>47.622063</td>\n      <td>-122.321251</td>\n      <td>10/13/2014</td>\n      <td>18</td>\n      <td>2/24/2015</td>\n      <td>20</td>\n      <td>NaN</td>\n    </tr>\n    <tr>\n      <th>13</th>\n      <td>CH-03</td>\n      <td>Summit Ave E &amp; E Republican St</td>\n      <td>47.623367</td>\n      <td>-122.325279</td>\n      <td>10/13/2014</td>\n      <td>16</td>\n      <td>NaN</td>\n      <td>16</td>\n      <td>NaN</td>\n    </tr>\n    <tr>\n      <th>14</th>\n      <td>CH-05</td>\n      <td>15th Ave E &amp; E Thomas St</td>\n      <td>47.620712</td>\n      <td>-122.312805</td>\n      <td>10/13/2014</td>\n      <td>16</td>\n      <td>NaN</td>\n      <td>16</td>\n      <td>NaN</td>\n    </tr>\n    <tr>\n      <th>15</th>\n      <td>CH-06</td>\n      <td>12th Ave &amp; E Denny Way</td>\n      <td>47.618549</td>\n      <td>-122.317017</td>\n      <td>10/13/2014</td>\n      <td>16</td>\n      <td>NaN</td>\n      <td>16</td>\n      <td>NaN</td>\n    </tr>\n    <tr>\n      <th>16</th>\n      <td>CH-07</td>\n      <td>E Pine St &amp; 16th Ave</td>\n      <td>47.615330</td>\n      <td>-122.311752</td>\n      <td>10/13/2014</td>\n      <td>18</td>\n      <td>NaN</td>\n      <td>18</td>\n      <td>NaN</td>\n    </tr>\n    <tr>\n      <th>17</th>\n      <td>CH-08</td>\n      <td>Cal Anderson Park / 11th Ave &amp; Pine St</td>\n      <td>47.615486</td>\n      <td>-122.318245</td>\n      <td>10/13/2014</td>\n      <td>28</td>\n      <td>2/24/2015</td>\n      <td>26</td>\n      <td>NaN</td>\n    </tr>\n    <tr>\n      <th>18</th>\n      <td>CH-09</td>\n      <td>Harvard Ave &amp; E Pine St</td>\n      <td>47.615517</td>\n      <td>-122.322083</td>\n      <td>10/13/2014</td>\n      <td>16</td>\n      <td>NaN</td>\n      <td>16</td>\n      <td>NaN</td>\n    </tr>\n    <tr>\n      <th>19</th>\n      <td>CH-12</td>\n      <td>Bellevue Ave &amp; E Pine St</td>\n      <td>47.615456</td>\n      <td>-122.326729</td>\n      <td>10/13/2014</td>\n      <td>18</td>\n      <td>NaN</td>\n      <td>14</td>\n      <td>NaN</td>\n    </tr>\n    <tr>\n      <th>20</th>\n      <td>CH-15</td>\n      <td>12th Ave &amp; E Mercer St</td>\n      <td>47.624142</td>\n      <td>-122.316811</td>\n      <td>10/13/2014</td>\n      <td>16</td>\n      <td>NaN</td>\n      <td>16</td>\n      <td>NaN</td>\n    </tr>\n    <tr>\n      <th>21</th>\n      <td>DPD-01</td>\n      <td>9th Ave N &amp; Mercer St</td>\n      <td>47.624298</td>\n      <td>-122.339617</td>\n      <td>10/13/2014</td>\n      <td>18</td>\n      <td>NaN</td>\n      <td>18</td>\n      <td>NaN</td>\n    </tr>\n    <tr>\n      <th>22</th>\n      <td>DPD-03</td>\n      <td>Children's Hospital / Sandpoint Way NE &amp; 40th ...</td>\n      <td>47.663509</td>\n      <td>-122.284119</td>\n      <td>10/13/2014</td>\n      <td>30</td>\n      <td>3/24/2015</td>\n      <td>24</td>\n      <td>NaN</td>\n    </tr>\n    <tr>\n      <th>23</th>\n      <td>EL-01</td>\n      <td>Fred Hutchinson Cancer Research Center / Fairv...</td>\n      <td>47.627643</td>\n      <td>-122.332576</td>\n      <td>10/13/2014</td>\n      <td>12</td>\n      <td>3/27/2015</td>\n      <td>16</td>\n      <td>NaN</td>\n    </tr>\n    <tr>\n      <th>24</th>\n      <td>EL-03</td>\n      <td>E Blaine St &amp; Fairview Ave E</td>\n      <td>47.634831</td>\n      <td>-122.326634</td>\n      <td>10/13/2014</td>\n      <td>18</td>\n      <td>NaN</td>\n      <td>18</td>\n      <td>NaN</td>\n    </tr>\n    <tr>\n      <th>25</th>\n      <td>EL-05</td>\n      <td>Eastlake Ave E &amp; E Allison St</td>\n      <td>47.649090</td>\n      <td>-122.322983</td>\n      <td>10/13/2014</td>\n      <td>18</td>\n      <td>NaN</td>\n      <td>18</td>\n      <td>NaN</td>\n    </tr>\n    <tr>\n      <th>26</th>\n      <td>FH-01</td>\n      <td>Frye Art Museum / Terry Ave &amp; Columbia St</td>\n      <td>47.607281</td>\n      <td>-122.324783</td>\n      <td>10/13/2014</td>\n      <td>16</td>\n      <td>3/18/2016</td>\n      <td>0</td>\n      <td>3/18/2016</td>\n    </tr>\n    <tr>\n      <th>27</th>\n      <td>FH-04</td>\n      <td>Seattle University / E Columbia St &amp; 12th Ave</td>\n      <td>47.609239</td>\n      <td>-122.316651</td>\n      <td>10/13/2014</td>\n      <td>20</td>\n      <td>NaN</td>\n      <td>20</td>\n      <td>NaN</td>\n    </tr>\n    <tr>\n      <th>28</th>\n      <td>ID-04</td>\n      <td>6th Ave S &amp; S King St</td>\n      <td>47.598488</td>\n      <td>-122.326412</td>\n      <td>10/13/2014</td>\n      <td>16</td>\n      <td>NaN</td>\n      <td>16</td>\n      <td>NaN</td>\n    </tr>\n    <tr>\n      <th>29</th>\n      <td>PS-04</td>\n      <td>Occidental Park / Occidental Ave S &amp; S Washing...</td>\n      <td>47.600757</td>\n      <td>-122.332946</td>\n      <td>10/13/2014</td>\n      <td>18</td>\n      <td>NaN</td>\n      <td>18</td>\n      <td>NaN</td>\n    </tr>\n    <tr>\n      <th>30</th>\n      <td>PS-05</td>\n      <td>King Street Station Plaza / 2nd Ave Extension ...</td>\n      <td>47.598994</td>\n      <td>-122.329684</td>\n      <td>10/13/2014</td>\n      <td>18</td>\n      <td>NaN</td>\n      <td>18</td>\n      <td>NaN</td>\n    </tr>\n    <tr>\n      <th>31</th>\n      <td>SLU-01</td>\n      <td>REI / Yale Ave N &amp; John St</td>\n      <td>47.619859</td>\n      <td>-122.330304</td>\n      <td>10/13/2014</td>\n      <td>18</td>\n      <td>2/24/2015</td>\n      <td>20</td>\n      <td>NaN</td>\n    </tr>\n    <tr>\n      <th>32</th>\n      <td>SLU-02</td>\n      <td>Dexter Ave N &amp; Aloha St</td>\n      <td>47.627735</td>\n      <td>-122.342232</td>\n      <td>10/13/2014</td>\n      <td>18</td>\n      <td>NaN</td>\n      <td>18</td>\n      <td>NaN</td>\n    </tr>\n    <tr>\n      <th>33</th>\n      <td>SLU-04</td>\n      <td>Republican St &amp; Westlake Ave N</td>\n      <td>47.623165</td>\n      <td>-122.338203</td>\n      <td>10/13/2014</td>\n      <td>18</td>\n      <td>NaN</td>\n      <td>18</td>\n      <td>NaN</td>\n    </tr>\n    <tr>\n      <th>34</th>\n      <td>SLU-07</td>\n      <td>PATH / 9th Ave &amp; Westlake Ave</td>\n      <td>47.618320</td>\n      <td>-122.338913</td>\n      <td>10/13/2014</td>\n      <td>18</td>\n      <td>NaN</td>\n      <td>18</td>\n      <td>NaN</td>\n    </tr>\n    <tr>\n      <th>35</th>\n      <td>SLU-15</td>\n      <td>Westlake Ave &amp; 6th Ave</td>\n      <td>47.613628</td>\n      <td>-122.337341</td>\n      <td>10/13/2014</td>\n      <td>12</td>\n      <td>3/13/2015</td>\n      <td>20</td>\n      <td>NaN</td>\n    </tr>\n    <tr>\n      <th>36</th>\n      <td>SLU-16</td>\n      <td>Pine St &amp; 9th Ave</td>\n      <td>47.613715</td>\n      <td>-122.331777</td>\n      <td>10/13/2014</td>\n      <td>20</td>\n      <td>NaN</td>\n      <td>20</td>\n      <td>NaN</td>\n    </tr>\n    <tr>\n      <th>37</th>\n      <td>SLU-17</td>\n      <td>Lake Union Park / Valley St &amp; Boren Ave N</td>\n      <td>47.626041</td>\n      <td>-122.335831</td>\n      <td>10/13/2014</td>\n      <td>18</td>\n      <td>2/23/2015</td>\n      <td>16</td>\n      <td>NaN</td>\n    </tr>\n    <tr>\n      <th>38</th>\n      <td>SLU-18</td>\n      <td>Dexter Ave &amp; Denny Way</td>\n      <td>47.618285</td>\n      <td>-122.342205</td>\n      <td>10/13/2014</td>\n      <td>20</td>\n      <td>11/2/2015</td>\n      <td>0</td>\n      <td>7/2/2016</td>\n    </tr>\n    <tr>\n      <th>39</th>\n      <td>SLU-19</td>\n      <td>Key Arena / 1st Ave N &amp; Harrison St</td>\n      <td>47.622277</td>\n      <td>-122.355230</td>\n      <td>10/13/2014</td>\n      <td>12</td>\n      <td>3/4/2015</td>\n      <td>16</td>\n      <td>NaN</td>\n    </tr>\n    <tr>\n      <th>40</th>\n      <td>SLU-20</td>\n      <td>Terry Ave &amp; Stewart St</td>\n      <td>47.616260</td>\n      <td>-122.333815</td>\n      <td>6/12/2015</td>\n      <td>20</td>\n      <td>NaN</td>\n      <td>20</td>\n      <td>NaN</td>\n    </tr>\n    <tr>\n      <th>41</th>\n      <td>SLU-21</td>\n      <td>Mercer St &amp; 9th Ave N</td>\n      <td>47.624769</td>\n      <td>-122.339408</td>\n      <td>9/15/2015</td>\n      <td>20</td>\n      <td>NaN</td>\n      <td>20</td>\n      <td>NaN</td>\n    </tr>\n    <tr>\n      <th>42</th>\n      <td>UD-01</td>\n      <td>Burke-Gilman Trail / NE Blakeley St &amp; 24th Ave NE</td>\n      <td>47.666145</td>\n      <td>-122.301491</td>\n      <td>10/13/2014</td>\n      <td>18</td>\n      <td>NaN</td>\n      <td>18</td>\n      <td>NaN</td>\n    </tr>\n    <tr>\n      <th>43</th>\n      <td>UD-02</td>\n      <td>NE 42nd St &amp; University Way NE</td>\n      <td>47.658288</td>\n      <td>-122.313334</td>\n      <td>10/13/2014</td>\n      <td>18</td>\n      <td>NaN</td>\n      <td>18</td>\n      <td>NaN</td>\n    </tr>\n    <tr>\n      <th>44</th>\n      <td>UD-04</td>\n      <td>12th Ave &amp; NE Campus Pkwy</td>\n      <td>47.656395</td>\n      <td>-122.315620</td>\n      <td>10/13/2014</td>\n      <td>16</td>\n      <td>NaN</td>\n      <td>16</td>\n      <td>NaN</td>\n    </tr>\n    <tr>\n      <th>45</th>\n      <td>UD-07</td>\n      <td>NE 47th St &amp; 12th Ave NE</td>\n      <td>47.663143</td>\n      <td>-122.315086</td>\n      <td>10/13/2014</td>\n      <td>16</td>\n      <td>NaN</td>\n      <td>16</td>\n      <td>NaN</td>\n    </tr>\n    <tr>\n      <th>46</th>\n      <td>UW-01</td>\n      <td>UW McCarty Hall / Whitman Ct</td>\n      <td>47.660268</td>\n      <td>-122.304826</td>\n      <td>10/13/2014</td>\n      <td>16</td>\n      <td>10/29/2015</td>\n      <td>0</td>\n      <td>10/29/2015</td>\n    </tr>\n    <tr>\n      <th>47</th>\n      <td>UW-02</td>\n      <td>Burke Museum / E Stevens Way NE &amp; Memorial Way NE</td>\n      <td>47.659756</td>\n      <td>-122.310402</td>\n      <td>10/13/2014</td>\n      <td>12</td>\n      <td>2/20/2015</td>\n      <td>14</td>\n      <td>NaN</td>\n    </tr>\n    <tr>\n      <th>48</th>\n      <td>UW-04</td>\n      <td>15th Ave NE &amp; NE 40th St</td>\n      <td>47.655590</td>\n      <td>-122.311890</td>\n      <td>10/13/2014</td>\n      <td>18</td>\n      <td>2/20/2015</td>\n      <td>16</td>\n      <td>NaN</td>\n    </tr>\n    <tr>\n      <th>49</th>\n      <td>UW-06</td>\n      <td>UW Engineering Library / E Stevens Way NE &amp; Je...</td>\n      <td>47.654613</td>\n      <td>-122.304863</td>\n      <td>10/13/2014</td>\n      <td>12</td>\n      <td>2/20/2015</td>\n      <td>14</td>\n      <td>NaN</td>\n    </tr>\n    <tr>\n      <th>50</th>\n      <td>UW-07</td>\n      <td>UW Intramural Activities Building</td>\n      <td>47.653713</td>\n      <td>-122.302162</td>\n      <td>10/13/2014</td>\n      <td>20</td>\n      <td>2/20/2015</td>\n      <td>14</td>\n      <td>NaN</td>\n    </tr>\n    <tr>\n      <th>51</th>\n      <td>UW-10</td>\n      <td>UW Magnuson Health Sciences Center Rotunda / C...</td>\n      <td>47.650725</td>\n      <td>-122.311188</td>\n      <td>10/13/2014</td>\n      <td>16</td>\n      <td>NaN</td>\n      <td>16</td>\n      <td>NaN</td>\n    </tr>\n    <tr>\n      <th>52</th>\n      <td>WF-01</td>\n      <td>Pier 69 / Alaskan Way &amp; Clay St</td>\n      <td>47.614315</td>\n      <td>-122.354093</td>\n      <td>10/13/2014</td>\n      <td>18</td>\n      <td>NaN</td>\n      <td>24</td>\n      <td>NaN</td>\n    </tr>\n    <tr>\n      <th>53</th>\n      <td>WF-04</td>\n      <td>Seattle Aquarium / Alaskan Way S &amp; Elliott Bay...</td>\n      <td>47.607702</td>\n      <td>-122.341650</td>\n      <td>10/13/2014</td>\n      <td>18</td>\n      <td>NaN</td>\n      <td>18</td>\n      <td>NaN</td>\n    </tr>\n    <tr>\n      <th>54</th>\n      <td>CH-16</td>\n      <td>Broadway and E Denny Way</td>\n      <td>47.618640</td>\n      <td>-122.320777</td>\n      <td>3/18/2016</td>\n      <td>18</td>\n      <td>NaN</td>\n      <td>18</td>\n      <td>NaN</td>\n    </tr>\n    <tr>\n      <th>55</th>\n      <td>SLU-22</td>\n      <td>Thomas St &amp; 5th Ave N</td>\n      <td>47.620879</td>\n      <td>-122.347377</td>\n      <td>7/3/2016</td>\n      <td>18</td>\n      <td>NaN</td>\n      <td>18</td>\n      <td>NaN</td>\n    </tr>\n    <tr>\n      <th>56</th>\n      <td>UW-11</td>\n      <td>NE Pacific St/UW Medical Center</td>\n      <td>47.649952</td>\n      <td>-122.306263</td>\n      <td>10/29/2015</td>\n      <td>16</td>\n      <td>NaN</td>\n      <td>16</td>\n      <td>NaN</td>\n    </tr>\n    <tr>\n      <th>57</th>\n      <td>WF-03</td>\n      <td>Pier 66 / Alaskan Way &amp; Bell St</td>\n      <td>47.611370</td>\n      <td>-122.348701</td>\n      <td>8/9/2016</td>\n      <td>18</td>\n      <td>NaN</td>\n      <td>18</td>\n      <td>NaN</td>\n    </tr>\n  </tbody>\n</table>\n</div>"
     },
     "metadata": {},
     "execution_count": 80
    }
   ],
   "source": [
    "# all_stations = station_df[station_df['modification_date'] != NaN]\n",
    "# befoure_modificatio = all_stations['install_dockcount'].mean()\n",
    "# after_modificatio = all_stations['current_dockcount'].mean() ## and you will notice it will be lees than before..\n",
    "## no cuse based on the data set the most of stations after 'modification' are losing bikes & i will type the way in next update.."
   ]
  },
  {
   "cell_type": "code",
   "execution_count": null,
   "metadata": {},
   "outputs": [],
   "source": []
  }
 ]
}