{
 "metadata": {
  "language_info": {
   "codemirror_mode": {
    "name": "ipython",
    "version": 3
   },
   "file_extension": ".py",
   "mimetype": "text/x-python",
   "name": "python",
   "nbconvert_exporter": "python",
   "pygments_lexer": "ipython3",
   "version": "3.8.5-final"
  },
  "orig_nbformat": 2,
  "kernelspec": {
   "name": "python38564bitvenvvenvf587fde67bb04195808dab09204fb6e4",
   "display_name": "Python 3.8.5 64-bit ('.venv': venv)"
  }
 },
 "nbformat": 4,
 "nbformat_minor": 2,
 "cells": [
  {
   "cell_type": "markdown",
   "metadata": {},
   "source": [
    "# Data Analysis with Pandas\n",
    "  \n",
    "\n",
    "<br>\n",
    "  \n",
    "\n",
    "\n",
    "## Data Set Name: Cycle Share Data set\n",
    "\n",
    "### by: Emad Al-Dean @ 01/09/2020"
   ]
  },
  {
   "cell_type": "code",
   "execution_count": 3,
   "metadata": {
    "tags": []
   },
   "outputs": [
    {
     "output_type": "stream",
     "name": "stderr",
     "text": "b'Skipping line 50794: expected 12 fields, saw 20\\n'\n"
    }
   ],
   "source": [
    "import pandas as pd\n",
    "import numpy as np\n",
    "from datetime import datetime as dt\n",
    "\n",
    "\n",
    "trip_df = pd.read_csv('./bike_stats/tripo.csv', error_bad_lines=False)\n",
    "\n",
    "weather_df = pd.read_csv('./bike_stats/weather.csv')\n",
    "\n",
    "station_df = pd.read_csv('./bike_stats/station.csv')"
   ]
  },
  {
   "cell_type": "markdown",
   "metadata": {},
   "source": [
    "## ** Q1: What is the average trip duration for a borrowed bicycle? **"
   ]
  },
  {
   "cell_type": "code",
   "execution_count": 4,
   "metadata": {},
   "outputs": [],
   "source": [
    "# not_members = df[df['usertype'] != 'Member']\n",
    "duration_in_minutes = trip_df['tripduration'].mean() // 60"
   ]
  },
  {
   "cell_type": "markdown",
   "metadata": {},
   "source": [
    "## ** Q2: What’s the most common age of a bicycle-sharer? **"
   ]
  },
  {
   "cell_type": "code",
   "execution_count": 5,
   "metadata": {},
   "outputs": [],
   "source": [
    "age = 2020 - int(trip_df['birthyear'].value_counts().idxmax())"
   ]
  },
  {
   "cell_type": "markdown",
   "metadata": {},
   "source": [
    "## ** Q3: Given all the weather data here, find the average precipitation per month, and the median precipitation. **"
   ]
  },
  {
   "cell_type": "code",
   "execution_count": 6,
   "metadata": {
    "tags": []
   },
   "outputs": [
    {
     "output_type": "stream",
     "name": "stdout",
     "text": "Month  Precipitation_In\nMonth                         \n1          1          0.143548\n2          2          0.168421\n3          3          0.156935\n4          4          0.051333\n5          5          0.012419\n6          6          0.030500\n7          7          0.012097\n8          8          0.018226\n9          9          0.041000\n10        10          0.189000\n11        11          0.187833\n12        12          0.236290\n       Month  Precipitation_In\nMonth                         \n1          1             0.020\n2          2             0.040\n3          3             0.025\n4          4             0.000\n5          5             0.000\n6          6             0.000\n7          7             0.000\n8          8             0.000\n9          9             0.000\n10        10             0.040\n11        11             0.035\n12        12             0.100\n"
    }
   ],
   "source": [
    "weather_df['Date'] = pd.to_datetime(weather_df['Date'])\n",
    "weather_df['Month'] = weather_df['Date'].dt.month\n",
    "avg = (weather_df[['Month','Precipitation_In']]).groupby(weather_df.Month).mean()\n",
    "print(avg)\n",
    "\n",
    "medi = (weather_df[['Month','Precipitation_In']]).groupby(weather_df.Month).median()\n",
    "print(medi)\n"
   ]
  },
  {
   "cell_type": "markdown",
   "metadata": {},
   "source": [
    "## ** Q4: What’s the average number of bikes at a given bike station? **"
   ]
  },
  {
   "cell_type": "code",
   "execution_count": 7,
   "metadata": {},
   "outputs": [],
   "source": [
    "median_precipitation = station_df.current_dockcount.mean()\n"
   ]
  },
  {
   "cell_type": "markdown",
   "metadata": {},
   "source": [
    "## ** Q5: When a bike station is modified, is it more likely that it’ll lose bikes or gain bikes? How do you know? **"
   ]
  },
  {
   "cell_type": "code",
   "execution_count": 11,
   "metadata": {},
   "outputs": [],
   "source": [
    "# all_stations = station_df[station_df['modification_date'] != NaN]\n",
    "# befoure_modificatio = all_stations['install_dockcount'].mean()\n",
    "# after_modificatio = all_stations['current_dockcount'].mean() ## and you will notice it will be lees than before..\n",
    "## no cuse based on the data set the most of stations after 'modification' are losing bikes & i will type the way in next update..\n",
    "station = station_df[['modification_date','install_dockcount','current_dockcount']].dropna()\n",
    "bike_modified = station['current_dockcount'].sum()-station['install_dockcount'].sum()"
   ]
  },
  {
   "cell_type": "code",
   "execution_count": 13,
   "metadata": {
    "tags": []
   },
   "outputs": [
    {
     "output_type": "stream",
     "name": "stdout",
     "text": "Done..!\n"
    }
   ],
   "source": [
    "def test():\n",
    "\n",
    "    def assert_equal(actual,expected):\n",
    "        assert actual == expected, f\"Expected {expected} but got {actual}\"\n",
    "\n",
    "    assert_equal(duration_in_minutes , 19.0 )\n",
    "    assert_equal(age, 33)\n",
    "    assert_equal(median_precipitation, 16.517241379310345)\n",
    "    assert_equal(bike_modified, -64)\n",
    "\n",
    "\n",
    "    print(\"Done..!\")\n",
    "\n",
    "test()"
   ]
  },
  {
   "cell_type": "code",
   "execution_count": null,
   "metadata": {},
   "outputs": [],
   "source": []
  }
 ]
}